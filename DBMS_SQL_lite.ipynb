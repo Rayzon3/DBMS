{
  "nbformat": 4,
  "nbformat_minor": 0,
  "metadata": {
    "colab": {
      "name": "DBMS_SQL_lite.ipynb",
      "provenance": [],
      "collapsed_sections": [],
      "authorship_tag": "ABX9TyN+jLFxdZYTU0DjvkASaN8i"
    },
    "kernelspec": {
      "name": "python3",
      "display_name": "Python 3"
    }
  },
  "cells": [
    {
      "cell_type": "code",
      "metadata": {
        "id": "laDBRZLAnCPP",
        "colab_type": "code",
        "colab": {}
      },
      "source": [
        "#Pract-1\n",
        "import sqlite3\n",
        "conn = sqlite3.connect('Shop.db') #connecting to db"
      ],
      "execution_count": 1,
      "outputs": []
    },
    {
      "cell_type": "code",
      "metadata": {
        "id": "Oib2xgXRopuB",
        "colab_type": "code",
        "colab": {}
      },
      "source": [
        "c = conn.cursor() #creating cursor object\n",
        "#creating table Shop_items\n",
        "c.execute(''' CREATE TABLE Shop_items\n",
        "                            (Item text, Symbol text, Expiry text, Quatity real, MRP real)''')\n",
        "#inserting a row of data\n",
        "c.execute(\"INSERT INTO Shop_items VALUES ('Rice', 'RCE', '2020-8-23', 10 ,100)\")\n",
        "conn.commit()"
      ],
      "execution_count": 2,
      "outputs": []
    },
    {
      "cell_type": "code",
      "metadata": {
        "id": "Qq8im3uWrUzs",
        "colab_type": "code",
        "colab": {}
      },
      "source": [
        "c.execute(\"INSERT INTO Shop_items VALUES ('Wheat', 'WHT', '2020-7-23', 5, 70)\")\n",
        "c.execute(\"INSERT INTO Shop_items VALUES ('Apples', 'APL', '2020-7-43', 5, 80)\")\n",
        "c.execute(\"INSERT INTO Shop_items VALUES ('Soap', 'SOP', '2020-9-23', 0.120, 40)\")\n",
        "conn.commit()"
      ],
      "execution_count": 3,
      "outputs": []
    },
    {
      "cell_type": "code",
      "metadata": {
        "id": "25sNF8tFsaw4",
        "colab_type": "code",
        "colab": {
          "base_uri": "https://localhost:8080/",
          "height": 85
        },
        "outputId": "676921c4-5349-42dc-bd6c-56b09732a3be"
      },
      "source": [
        "#printing\n",
        "for row in c.execute('SELECT * FROM Shop_items'):\n",
        "  print(row)"
      ],
      "execution_count": 4,
      "outputs": [
        {
          "output_type": "stream",
          "text": [
            "('Rice', 'RCE', '2020-8-23', 10.0, 100.0)\n",
            "('Wheat', 'WHT', '2020-7-23', 5.0, 70.0)\n",
            "('Apples', 'APL', '2020-7-43', 5.0, 80.0)\n",
            "('Soap', 'SOP', '2020-9-23', 0.12, 40.0)\n"
          ],
          "name": "stdout"
        }
      ]
    }
  ]
}