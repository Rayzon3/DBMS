{
  "nbformat": 4,
  "nbformat_minor": 0,
  "metadata": {
    "colab": {
      "name": "DBMS_SQL_lite.ipynb",
      "provenance": [],
      "collapsed_sections": [],
      "authorship_tag": "ABX9TyNxP6Kel+2gNiigDsxYhbA6",
      "include_colab_link": true
    },
    "kernelspec": {
      "name": "python3",
      "display_name": "Python 3"
    }
  },
  "cells": [
    {
      "cell_type": "markdown",
      "metadata": {
        "id": "view-in-github",
        "colab_type": "text"
      },
      "source": [
        "<a href=\"https://colab.research.google.com/github/Rayzon3/DBMS/blob/master/DBMS_SQL_lite.ipynb\" target=\"_parent\"><img src=\"https://colab.research.google.com/assets/colab-badge.svg\" alt=\"Open In Colab\"/></a>"
      ]
    },
    {
      "cell_type": "code",
      "metadata": {
        "id": "laDBRZLAnCPP"
      },
      "source": [
        "#Pract-1\n",
        "import sqlite3\n",
        "conn = sqlite3.connect('Shop.db') #connecting to db"
      ],
      "execution_count": null,
      "outputs": []
    },
    {
      "cell_type": "code",
      "metadata": {
        "id": "Oib2xgXRopuB",
        "outputId": "d90e8ccf-ca44-4d00-8c81-fc7caa2688f2",
        "colab": {
          "base_uri": "https://localhost:8080/",
          "height": 300
        }
      },
      "source": [
        "c = conn.cursor() #creating cursor object\n",
        "#creating table Shop_items\n",
        "c.execute(''' CREATE TABLE Shop_items\n",
        "                            (Item text, Symbol text, Expiry text, Quatity real, MRP real)''')\n",
        "#inserting a row of data\n",
        "c.execute(\"INSERT INTO Shop_items VALUES ('Rice', 'RCE', '2020-8-23', 10 ,100)\")\n",
        "conn.commit()"
      ],
      "execution_count": null,
      "outputs": [
        {
          "output_type": "stream",
          "text": [
            "ERROR:root:An unexpected error occurred while tokenizing input\n",
            "The following traceback may be corrupted or invalid\n",
            "The error message is: ('EOF in multi-line string', (1, 89))\n",
            "\n"
          ],
          "name": "stderr"
        },
        {
          "output_type": "error",
          "ename": "OperationalError",
          "evalue": "ignored",
          "traceback": [
            "\u001b[0;31m---------------------------------------------------------------------------\u001b[0m",
            "\u001b[0;31mOperationalError\u001b[0m                          Traceback (most recent call last)",
            "\u001b[0;32m<ipython-input-2-d7c57efd8ad6>\u001b[0m in \u001b[0;36m<module>\u001b[0;34m()\u001b[0m\n\u001b[1;32m      2\u001b[0m \u001b[0;31m#creating table Shop_items\u001b[0m\u001b[0;34m\u001b[0m\u001b[0;34m\u001b[0m\u001b[0;34m\u001b[0m\u001b[0m\n\u001b[1;32m      3\u001b[0m c.execute(''' CREATE TABLE Shop_items\n\u001b[0;32m----> 4\u001b[0;31m                             (Item text, Symbol text, Expiry text, Quatity real, MRP real)''')\n\u001b[0m\u001b[1;32m      5\u001b[0m \u001b[0;31m#inserting a row of data\u001b[0m\u001b[0;34m\u001b[0m\u001b[0;34m\u001b[0m\u001b[0;34m\u001b[0m\u001b[0m\n\u001b[1;32m      6\u001b[0m \u001b[0mc\u001b[0m\u001b[0;34m.\u001b[0m\u001b[0mexecute\u001b[0m\u001b[0;34m(\u001b[0m\u001b[0;34m\"INSERT INTO Shop_items VALUES ('Rice', 'RCE', '2020-8-23', 10 ,100)\"\u001b[0m\u001b[0;34m)\u001b[0m\u001b[0;34m\u001b[0m\u001b[0;34m\u001b[0m\u001b[0m\n",
            "\u001b[0;31mOperationalError\u001b[0m: table Shop_items already exists"
          ]
        }
      ]
    },
    {
      "cell_type": "code",
      "metadata": {
        "id": "Qq8im3uWrUzs"
      },
      "source": [
        "c.execute(\"INSERT INTO Shop_items VALUES ('Wheat', 'WHT', '2020-7-23', 5, 70)\")\n",
        "c.execute(\"INSERT INTO Shop_items VALUES ('Apples', 'APL', '2020-7-43', 5, 80)\")\n",
        "c.execute(\"INSERT INTO Shop_items VALUES ('Soap', 'SOP', '2020-9-23', 0.120, 40)\")\n",
        "conn.commit()"
      ],
      "execution_count": null,
      "outputs": []
    },
    {
      "cell_type": "code",
      "metadata": {
        "id": "25sNF8tFsaw4",
        "outputId": "ed552450-ef80-4c71-9390-895abad52d91",
        "colab": {
          "base_uri": "https://localhost:8080/"
        }
      },
      "source": [
        "#printing\n",
        "for row in c.execute('SELECT * FROM Shop_items'):\n",
        "  print(row)"
      ],
      "execution_count": null,
      "outputs": [
        {
          "output_type": "stream",
          "text": [
            "('Rice', 'RCE', '2020-8-23', 10.0, 100.0)\n",
            "('Wheat', 'WHT', '2020-7-23', 5.0, 70.0)\n",
            "('Apples', 'APL', '2020-7-43', 5.0, 80.0)\n",
            "('Wheat', 'WHT', '2020-7-23', 5.0, 70.0)\n",
            "('Apples', 'APL', '2020-7-43', 5.0, 80.0)\n",
            "('Soap', 'SOP', '2020-9-23', 0.12, 40.0)\n"
          ],
          "name": "stdout"
        }
      ]
    },
    {
      "cell_type": "code",
      "metadata": {
        "id": "ki3VHiH6Ls8e",
        "outputId": "7244d2a8-602e-40da-cf54-4c4c8f02bd75",
        "colab": {
          "base_uri": "https://localhost:8080/"
        }
      },
      "source": [
        "c.execute(\"DELETE FROM Shop_items WHERE MRP < 70\")"
      ],
      "execution_count": null,
      "outputs": [
        {
          "output_type": "execute_result",
          "data": {
            "text/plain": [
              "<sqlite3.Cursor at 0x7f7e88c64ce0>"
            ]
          },
          "metadata": {
            "tags": []
          },
          "execution_count": 4
        }
      ]
    },
    {
      "cell_type": "code",
      "metadata": {
        "id": "vs_ZSHl3NQ8v",
        "outputId": "0542d80f-c4dc-4de3-b5e5-1809a319ac59",
        "colab": {
          "base_uri": "https://localhost:8080/"
        }
      },
      "source": [
        "for row in c.execute('SELECT * FROM Shop_items'):\n",
        "  print(row)"
      ],
      "execution_count": null,
      "outputs": [
        {
          "output_type": "stream",
          "text": [
            "('Rice', 'RCE', '2020-8-23', 10.0, 100.0)\n",
            "('Wheat', 'WHT', '2020-7-23', 5.0, 70.0)\n",
            "('Apples', 'APL', '2020-7-43', 5.0, 80.0)\n",
            "('Wheat', 'WHT', '2020-7-23', 5.0, 70.0)\n",
            "('Apples', 'APL', '2020-7-43', 5.0, 80.0)\n"
          ],
          "name": "stdout"
        }
      ]
    }
  ]
}