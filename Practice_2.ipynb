{
  "nbformat": 4,
  "nbformat_minor": 0,
  "metadata": {
    "colab": {
      "name": "Practice_2.ipynb",
      "provenance": [],
      "authorship_tag": "ABX9TyPsJ+gSeH0qHO2uzgGQTjGM",
      "include_colab_link": true
    },
    "kernelspec": {
      "name": "python3",
      "display_name": "Python 3"
    }
  },
  "cells": [
    {
      "cell_type": "markdown",
      "metadata": {
        "id": "view-in-github",
        "colab_type": "text"
      },
      "source": [
        "<a href=\"https://colab.research.google.com/github/Rayzon3/DBMS/blob/master/Practice_2.ipynb\" target=\"_parent\"><img src=\"https://colab.research.google.com/assets/colab-badge.svg\" alt=\"Open In Colab\"/></a>"
      ]
    },
    {
      "cell_type": "code",
      "metadata": {
        "id": "94Ib0bssEVNI"
      },
      "source": [
        "import sqlite3\n",
        "import pandas as pd"
      ],
      "execution_count": 1,
      "outputs": []
    },
    {
      "cell_type": "code",
      "metadata": {
        "id": "2akaAe82E6pM"
      },
      "source": [
        "conn = sqlite3.connect('MyDataBase.db')\n",
        "cur = conn.cursor()"
      ],
      "execution_count": 2,
      "outputs": []
    },
    {
      "cell_type": "code",
      "metadata": {
        "colab": {
          "base_uri": "https://localhost:8080/"
        },
        "id": "TDFdUGaXMLU4",
        "outputId": "ea885ee6-ba25-486c-bcd7-72f041c5d5f6"
      },
      "source": [
        "#Creating b.Tech table\n",
        "conn.execute('''\n",
        "              CREATE TABLE IF NOT EXISTS bTech_Table(\n",
        "                id INTEGER PRIMARY KEY AUTOINCREMENT,\n",
        "                name TEXT NOT NULL,\n",
        "                group_name TEXT NOT NULL,\n",
        "                marks_mse INTEGER NOT NULL,\n",
        "                marks_final INTEGER NOT NULL \n",
        "              )\n",
        "''')"
      ],
      "execution_count": 5,
      "outputs": [
        {
          "output_type": "execute_result",
          "data": {
            "text/plain": [
              "<sqlite3.Cursor at 0x7f7623bbba40>"
            ]
          },
          "metadata": {
            "tags": []
          },
          "execution_count": 5
        }
      ]
    },
    {
      "cell_type": "code",
      "metadata": {
        "id": "OKKvfRuDYs_X"
      },
      "source": [
        "def insertData(id, name, group_name, marks_mse, marks_final):\n",
        "  query = \"INSERT INTO btech_table Values(?, ?, ?, ?, ?)\"\n",
        "  cur.execute(query, (id, name, group_name, marks_mse, marks_final))\n",
        "  conn.commit()"
      ],
      "execution_count": 13,
      "outputs": []
    },
    {
      "cell_type": "code",
      "metadata": {
        "id": "ZiOXcLPrabIO"
      },
      "source": [
        "insertData(1234, \"Asuna\", \"T1\", 19, 58)"
      ],
      "execution_count": 14,
      "outputs": []
    },
    {
      "cell_type": "code",
      "metadata": {
        "id": "v3IWyyWhcTdj"
      },
      "source": [
        "insertData(3242, \"Chizuru\", \"T1\", 17, 52)"
      ],
      "execution_count": 24,
      "outputs": []
    },
    {
      "cell_type": "code",
      "metadata": {
        "colab": {
          "base_uri": "https://localhost:8080/",
          "height": 111
        },
        "id": "4dyVr99Acjbd",
        "outputId": "f76cd39d-2e23-441c-a598-09b0f6b5f461"
      },
      "source": [
        "query = \"SELECT * FROM btech_table\"\n",
        "pd.read_sql(query, conn)"
      ],
      "execution_count": 26,
      "outputs": [
        {
          "output_type": "execute_result",
          "data": {
            "text/html": [
              "<div>\n",
              "<style scoped>\n",
              "    .dataframe tbody tr th:only-of-type {\n",
              "        vertical-align: middle;\n",
              "    }\n",
              "\n",
              "    .dataframe tbody tr th {\n",
              "        vertical-align: top;\n",
              "    }\n",
              "\n",
              "    .dataframe thead th {\n",
              "        text-align: right;\n",
              "    }\n",
              "</style>\n",
              "<table border=\"1\" class=\"dataframe\">\n",
              "  <thead>\n",
              "    <tr style=\"text-align: right;\">\n",
              "      <th></th>\n",
              "      <th>id</th>\n",
              "      <th>name</th>\n",
              "      <th>group_name</th>\n",
              "      <th>marks_mse</th>\n",
              "      <th>marks_final</th>\n",
              "    </tr>\n",
              "  </thead>\n",
              "  <tbody>\n",
              "    <tr>\n",
              "      <th>0</th>\n",
              "      <td>1234</td>\n",
              "      <td>Asuna</td>\n",
              "      <td>T1</td>\n",
              "      <td>19</td>\n",
              "      <td>58</td>\n",
              "    </tr>\n",
              "    <tr>\n",
              "      <th>1</th>\n",
              "      <td>3242</td>\n",
              "      <td>Chizuru</td>\n",
              "      <td>T1</td>\n",
              "      <td>17</td>\n",
              "      <td>52</td>\n",
              "    </tr>\n",
              "  </tbody>\n",
              "</table>\n",
              "</div>"
            ],
            "text/plain": [
              "     id     name group_name  marks_mse  marks_final\n",
              "0  1234    Asuna         T1         19           58\n",
              "1  3242  Chizuru         T1         17           52"
            ]
          },
          "metadata": {
            "tags": []
          },
          "execution_count": 26
        }
      ]
    },
    {
      "cell_type": "code",
      "metadata": {
        "id": "dpGI0Ni0c4GF"
      },
      "source": [
        "insertData(6753, \"Kirito\", \"T2\", 18, 57)\n",
        "insertData(8657, \"Hotaro\", \"T2\", 16, 51)"
      ],
      "execution_count": 27,
      "outputs": []
    },
    {
      "cell_type": "code",
      "metadata": {
        "colab": {
          "base_uri": "https://localhost:8080/",
          "height": 173
        },
        "id": "cWS5e5godisW",
        "outputId": "79b843b9-3d2f-4c3d-df9c-0f4d39310a9a"
      },
      "source": [
        "query = \"SELECT * FROM btech_table\"\n",
        "pd.read_sql(query, conn)"
      ],
      "execution_count": 28,
      "outputs": [
        {
          "output_type": "execute_result",
          "data": {
            "text/html": [
              "<div>\n",
              "<style scoped>\n",
              "    .dataframe tbody tr th:only-of-type {\n",
              "        vertical-align: middle;\n",
              "    }\n",
              "\n",
              "    .dataframe tbody tr th {\n",
              "        vertical-align: top;\n",
              "    }\n",
              "\n",
              "    .dataframe thead th {\n",
              "        text-align: right;\n",
              "    }\n",
              "</style>\n",
              "<table border=\"1\" class=\"dataframe\">\n",
              "  <thead>\n",
              "    <tr style=\"text-align: right;\">\n",
              "      <th></th>\n",
              "      <th>id</th>\n",
              "      <th>name</th>\n",
              "      <th>group_name</th>\n",
              "      <th>marks_mse</th>\n",
              "      <th>marks_final</th>\n",
              "    </tr>\n",
              "  </thead>\n",
              "  <tbody>\n",
              "    <tr>\n",
              "      <th>0</th>\n",
              "      <td>1234</td>\n",
              "      <td>Asuna</td>\n",
              "      <td>T1</td>\n",
              "      <td>19</td>\n",
              "      <td>58</td>\n",
              "    </tr>\n",
              "    <tr>\n",
              "      <th>1</th>\n",
              "      <td>3242</td>\n",
              "      <td>Chizuru</td>\n",
              "      <td>T1</td>\n",
              "      <td>17</td>\n",
              "      <td>52</td>\n",
              "    </tr>\n",
              "    <tr>\n",
              "      <th>2</th>\n",
              "      <td>6753</td>\n",
              "      <td>Kirito</td>\n",
              "      <td>T2</td>\n",
              "      <td>18</td>\n",
              "      <td>57</td>\n",
              "    </tr>\n",
              "    <tr>\n",
              "      <th>3</th>\n",
              "      <td>8657</td>\n",
              "      <td>Hotaro</td>\n",
              "      <td>T2</td>\n",
              "      <td>16</td>\n",
              "      <td>51</td>\n",
              "    </tr>\n",
              "  </tbody>\n",
              "</table>\n",
              "</div>"
            ],
            "text/plain": [
              "     id     name group_name  marks_mse  marks_final\n",
              "0  1234    Asuna         T1         19           58\n",
              "1  3242  Chizuru         T1         17           52\n",
              "2  6753   Kirito         T2         18           57\n",
              "3  8657   Hotaro         T2         16           51"
            ]
          },
          "metadata": {
            "tags": []
          },
          "execution_count": 28
        }
      ]
    },
    {
      "cell_type": "code",
      "metadata": {
        "colab": {
          "base_uri": "https://localhost:8080/"
        },
        "id": "kMvwNd_md-7E",
        "outputId": "9191ed6b-f391-49fd-eee6-20556c5651d3"
      },
      "source": [
        "#creating m.tech table\n",
        "conn.execute('''CREATE TABLE IF NOT EXISTS mtech_table(\n",
        "                  id INTEGER PRIMARY KEY AUTOINCREMENT,\n",
        "                  name TEXT NOT NULL,\n",
        "                  group_name TEXT NOT NULL,\n",
        "                  marks_mse INTEGER NOT NULL,\n",
        "                  marks_final INTEGER NOT NULL   \n",
        ")''')"
      ],
      "execution_count": 31,
      "outputs": [
        {
          "output_type": "execute_result",
          "data": {
            "text/plain": [
              "<sqlite3.Cursor at 0x7f761adaae30>"
            ]
          },
          "metadata": {
            "tags": []
          },
          "execution_count": 31
        }
      ]
    },
    {
      "cell_type": "code",
      "metadata": {
        "id": "9EhA5Zwbk4YY"
      },
      "source": [
        "def insert(id, name, group_name, marks_mse, marks_final):\n",
        "  query = \"INSERT INTO mtech_table Values(?, ?, ?, ?, ?)\"\n",
        "  cur.execute(query, (id, name, group_name, marks_mse, marks_final))\n",
        "  conn.commit()"
      ],
      "execution_count": 32,
      "outputs": []
    },
    {
      "cell_type": "code",
      "metadata": {
        "id": "FbfKqJAdlEaW"
      },
      "source": [
        "insert(1236, \"Chika\", \"T1\", 15, 60)"
      ],
      "execution_count": 33,
      "outputs": []
    },
    {
      "cell_type": "code",
      "metadata": {
        "colab": {
          "base_uri": "https://localhost:8080/",
          "height": 80
        },
        "id": "rRU0Yj9FlQbn",
        "outputId": "5cdaf700-f73b-49b7-d09f-48219b353eb8"
      },
      "source": [
        "query = \"SELECT * FROM mtech_table\"\n",
        "pd.read_sql(query, conn)"
      ],
      "execution_count": 34,
      "outputs": [
        {
          "output_type": "execute_result",
          "data": {
            "text/html": [
              "<div>\n",
              "<style scoped>\n",
              "    .dataframe tbody tr th:only-of-type {\n",
              "        vertical-align: middle;\n",
              "    }\n",
              "\n",
              "    .dataframe tbody tr th {\n",
              "        vertical-align: top;\n",
              "    }\n",
              "\n",
              "    .dataframe thead th {\n",
              "        text-align: right;\n",
              "    }\n",
              "</style>\n",
              "<table border=\"1\" class=\"dataframe\">\n",
              "  <thead>\n",
              "    <tr style=\"text-align: right;\">\n",
              "      <th></th>\n",
              "      <th>id</th>\n",
              "      <th>name</th>\n",
              "      <th>group_name</th>\n",
              "      <th>marks_mse</th>\n",
              "      <th>marks_final</th>\n",
              "    </tr>\n",
              "  </thead>\n",
              "  <tbody>\n",
              "    <tr>\n",
              "      <th>0</th>\n",
              "      <td>1236</td>\n",
              "      <td>Chika</td>\n",
              "      <td>T1</td>\n",
              "      <td>15</td>\n",
              "      <td>60</td>\n",
              "    </tr>\n",
              "  </tbody>\n",
              "</table>\n",
              "</div>"
            ],
            "text/plain": [
              "     id   name group_name  marks_mse  marks_final\n",
              "0  1236  Chika         T1         15           60"
            ]
          },
          "metadata": {
            "tags": []
          },
          "execution_count": 34
        }
      ]
    },
    {
      "cell_type": "code",
      "metadata": {
        "id": "Nzk6YgKk6fhf"
      },
      "source": [
        "insert(6755, \"Yuki\", \"T1\", 13, 45)\n",
        "insert(7668, \"Nicky\", \"T2\", 15, 55)\n",
        "insert(9762, \"Ruka\", \"T2\", 12, 52)"
      ],
      "execution_count": 35,
      "outputs": []
    },
    {
      "cell_type": "code",
      "metadata": {
        "colab": {
          "base_uri": "https://localhost:8080/",
          "height": 173
        },
        "id": "rXlBUSmR7VN9",
        "outputId": "bdfc9094-8241-4a31-c085-6ff164022a1b"
      },
      "source": [
        "query = \"SELECT * FROM mtech_table\"\n",
        "pd.read_sql(query, conn)"
      ],
      "execution_count": 36,
      "outputs": [
        {
          "output_type": "execute_result",
          "data": {
            "text/html": [
              "<div>\n",
              "<style scoped>\n",
              "    .dataframe tbody tr th:only-of-type {\n",
              "        vertical-align: middle;\n",
              "    }\n",
              "\n",
              "    .dataframe tbody tr th {\n",
              "        vertical-align: top;\n",
              "    }\n",
              "\n",
              "    .dataframe thead th {\n",
              "        text-align: right;\n",
              "    }\n",
              "</style>\n",
              "<table border=\"1\" class=\"dataframe\">\n",
              "  <thead>\n",
              "    <tr style=\"text-align: right;\">\n",
              "      <th></th>\n",
              "      <th>id</th>\n",
              "      <th>name</th>\n",
              "      <th>group_name</th>\n",
              "      <th>marks_mse</th>\n",
              "      <th>marks_final</th>\n",
              "    </tr>\n",
              "  </thead>\n",
              "  <tbody>\n",
              "    <tr>\n",
              "      <th>0</th>\n",
              "      <td>1236</td>\n",
              "      <td>Chika</td>\n",
              "      <td>T1</td>\n",
              "      <td>15</td>\n",
              "      <td>60</td>\n",
              "    </tr>\n",
              "    <tr>\n",
              "      <th>1</th>\n",
              "      <td>6755</td>\n",
              "      <td>Yuki</td>\n",
              "      <td>T1</td>\n",
              "      <td>13</td>\n",
              "      <td>45</td>\n",
              "    </tr>\n",
              "    <tr>\n",
              "      <th>2</th>\n",
              "      <td>7668</td>\n",
              "      <td>Nicky</td>\n",
              "      <td>T2</td>\n",
              "      <td>15</td>\n",
              "      <td>55</td>\n",
              "    </tr>\n",
              "    <tr>\n",
              "      <th>3</th>\n",
              "      <td>9762</td>\n",
              "      <td>Ruka</td>\n",
              "      <td>T2</td>\n",
              "      <td>12</td>\n",
              "      <td>52</td>\n",
              "    </tr>\n",
              "  </tbody>\n",
              "</table>\n",
              "</div>"
            ],
            "text/plain": [
              "     id   name group_name  marks_mse  marks_final\n",
              "0  1236  Chika         T1         15           60\n",
              "1  6755   Yuki         T1         13           45\n",
              "2  7668  Nicky         T2         15           55\n",
              "3  9762   Ruka         T2         12           52"
            ]
          },
          "metadata": {
            "tags": []
          },
          "execution_count": 36
        }
      ]
    },
    {
      "cell_type": "code",
      "metadata": {
        "id": "6BR6KUwm7kg-"
      },
      "source": [
        "from IPython.display import display"
      ],
      "execution_count": 37,
      "outputs": []
    },
    {
      "cell_type": "code",
      "metadata": {
        "colab": {
          "base_uri": "https://localhost:8080/",
          "height": 363
        },
        "id": "2KICSg_M7nOw",
        "outputId": "58c75a70-31ce-4066-d3d5-3bbdf75999e9"
      },
      "source": [
        "print(\"B.Tech Students\")\n",
        "display(pd.read_sql(\"SELECT * FROM btech_table\", conn))\n",
        "\n",
        "print(\"M.Tech Students\")\n",
        "display(pd.read_sql(\"SELECT * FROM mtech_table\", conn))"
      ],
      "execution_count": 39,
      "outputs": [
        {
          "output_type": "stream",
          "text": [
            "B.Tech Students\n"
          ],
          "name": "stdout"
        },
        {
          "output_type": "display_data",
          "data": {
            "text/html": [
              "<div>\n",
              "<style scoped>\n",
              "    .dataframe tbody tr th:only-of-type {\n",
              "        vertical-align: middle;\n",
              "    }\n",
              "\n",
              "    .dataframe tbody tr th {\n",
              "        vertical-align: top;\n",
              "    }\n",
              "\n",
              "    .dataframe thead th {\n",
              "        text-align: right;\n",
              "    }\n",
              "</style>\n",
              "<table border=\"1\" class=\"dataframe\">\n",
              "  <thead>\n",
              "    <tr style=\"text-align: right;\">\n",
              "      <th></th>\n",
              "      <th>id</th>\n",
              "      <th>name</th>\n",
              "      <th>group_name</th>\n",
              "      <th>marks_mse</th>\n",
              "      <th>marks_final</th>\n",
              "    </tr>\n",
              "  </thead>\n",
              "  <tbody>\n",
              "    <tr>\n",
              "      <th>0</th>\n",
              "      <td>1234</td>\n",
              "      <td>Asuna</td>\n",
              "      <td>T1</td>\n",
              "      <td>19</td>\n",
              "      <td>58</td>\n",
              "    </tr>\n",
              "    <tr>\n",
              "      <th>1</th>\n",
              "      <td>3242</td>\n",
              "      <td>Chizuru</td>\n",
              "      <td>T1</td>\n",
              "      <td>17</td>\n",
              "      <td>52</td>\n",
              "    </tr>\n",
              "    <tr>\n",
              "      <th>2</th>\n",
              "      <td>6753</td>\n",
              "      <td>Kirito</td>\n",
              "      <td>T2</td>\n",
              "      <td>18</td>\n",
              "      <td>57</td>\n",
              "    </tr>\n",
              "    <tr>\n",
              "      <th>3</th>\n",
              "      <td>8657</td>\n",
              "      <td>Hotaro</td>\n",
              "      <td>T2</td>\n",
              "      <td>16</td>\n",
              "      <td>51</td>\n",
              "    </tr>\n",
              "  </tbody>\n",
              "</table>\n",
              "</div>"
            ],
            "text/plain": [
              "     id     name group_name  marks_mse  marks_final\n",
              "0  1234    Asuna         T1         19           58\n",
              "1  3242  Chizuru         T1         17           52\n",
              "2  6753   Kirito         T2         18           57\n",
              "3  8657   Hotaro         T2         16           51"
            ]
          },
          "metadata": {
            "tags": []
          }
        },
        {
          "output_type": "stream",
          "text": [
            "M.Tech Students\n"
          ],
          "name": "stdout"
        },
        {
          "output_type": "display_data",
          "data": {
            "text/html": [
              "<div>\n",
              "<style scoped>\n",
              "    .dataframe tbody tr th:only-of-type {\n",
              "        vertical-align: middle;\n",
              "    }\n",
              "\n",
              "    .dataframe tbody tr th {\n",
              "        vertical-align: top;\n",
              "    }\n",
              "\n",
              "    .dataframe thead th {\n",
              "        text-align: right;\n",
              "    }\n",
              "</style>\n",
              "<table border=\"1\" class=\"dataframe\">\n",
              "  <thead>\n",
              "    <tr style=\"text-align: right;\">\n",
              "      <th></th>\n",
              "      <th>id</th>\n",
              "      <th>name</th>\n",
              "      <th>group_name</th>\n",
              "      <th>marks_mse</th>\n",
              "      <th>marks_final</th>\n",
              "    </tr>\n",
              "  </thead>\n",
              "  <tbody>\n",
              "    <tr>\n",
              "      <th>0</th>\n",
              "      <td>1236</td>\n",
              "      <td>Chika</td>\n",
              "      <td>T1</td>\n",
              "      <td>15</td>\n",
              "      <td>60</td>\n",
              "    </tr>\n",
              "    <tr>\n",
              "      <th>1</th>\n",
              "      <td>6755</td>\n",
              "      <td>Yuki</td>\n",
              "      <td>T1</td>\n",
              "      <td>13</td>\n",
              "      <td>45</td>\n",
              "    </tr>\n",
              "    <tr>\n",
              "      <th>2</th>\n",
              "      <td>7668</td>\n",
              "      <td>Nicky</td>\n",
              "      <td>T2</td>\n",
              "      <td>15</td>\n",
              "      <td>55</td>\n",
              "    </tr>\n",
              "    <tr>\n",
              "      <th>3</th>\n",
              "      <td>9762</td>\n",
              "      <td>Ruka</td>\n",
              "      <td>T2</td>\n",
              "      <td>12</td>\n",
              "      <td>52</td>\n",
              "    </tr>\n",
              "  </tbody>\n",
              "</table>\n",
              "</div>"
            ],
            "text/plain": [
              "     id   name group_name  marks_mse  marks_final\n",
              "0  1236  Chika         T1         15           60\n",
              "1  6755   Yuki         T1         13           45\n",
              "2  7668  Nicky         T2         15           55\n",
              "3  9762   Ruka         T2         12           52"
            ]
          },
          "metadata": {
            "tags": []
          }
        }
      ]
    },
    {
      "cell_type": "code",
      "metadata": {
        "colab": {
          "base_uri": "https://localhost:8080/",
          "height": 80
        },
        "id": "hw955jCM7Ybu",
        "outputId": "c20ccce9-c92c-430f-e0c9-036cab9b6786"
      },
      "source": [
        "#total number of students in b.tech table\n",
        "query = \"SELECT COUNT(*) FROM btech_table\"\n",
        "pd.read_sql(query, conn)"
      ],
      "execution_count": 40,
      "outputs": [
        {
          "output_type": "execute_result",
          "data": {
            "text/html": [
              "<div>\n",
              "<style scoped>\n",
              "    .dataframe tbody tr th:only-of-type {\n",
              "        vertical-align: middle;\n",
              "    }\n",
              "\n",
              "    .dataframe tbody tr th {\n",
              "        vertical-align: top;\n",
              "    }\n",
              "\n",
              "    .dataframe thead th {\n",
              "        text-align: right;\n",
              "    }\n",
              "</style>\n",
              "<table border=\"1\" class=\"dataframe\">\n",
              "  <thead>\n",
              "    <tr style=\"text-align: right;\">\n",
              "      <th></th>\n",
              "      <th>COUNT(*)</th>\n",
              "    </tr>\n",
              "  </thead>\n",
              "  <tbody>\n",
              "    <tr>\n",
              "      <th>0</th>\n",
              "      <td>4</td>\n",
              "    </tr>\n",
              "  </tbody>\n",
              "</table>\n",
              "</div>"
            ],
            "text/plain": [
              "   COUNT(*)\n",
              "0         4"
            ]
          },
          "metadata": {
            "tags": []
          },
          "execution_count": 40
        }
      ]
    },
    {
      "cell_type": "code",
      "metadata": {
        "colab": {
          "base_uri": "https://localhost:8080/",
          "height": 111
        },
        "id": "bZp2zYOyAEzl",
        "outputId": "c780168d-3144-4ec1-dc27-6d37dbcfb739"
      },
      "source": [
        "#list all T2 students in m.tech\n",
        "query = \"SELECT * FROM mtech_table WHERE group_name = 'T2'\"\n",
        "pd.read_sql(query, conn)"
      ],
      "execution_count": 41,
      "outputs": [
        {
          "output_type": "execute_result",
          "data": {
            "text/html": [
              "<div>\n",
              "<style scoped>\n",
              "    .dataframe tbody tr th:only-of-type {\n",
              "        vertical-align: middle;\n",
              "    }\n",
              "\n",
              "    .dataframe tbody tr th {\n",
              "        vertical-align: top;\n",
              "    }\n",
              "\n",
              "    .dataframe thead th {\n",
              "        text-align: right;\n",
              "    }\n",
              "</style>\n",
              "<table border=\"1\" class=\"dataframe\">\n",
              "  <thead>\n",
              "    <tr style=\"text-align: right;\">\n",
              "      <th></th>\n",
              "      <th>id</th>\n",
              "      <th>name</th>\n",
              "      <th>group_name</th>\n",
              "      <th>marks_mse</th>\n",
              "      <th>marks_final</th>\n",
              "    </tr>\n",
              "  </thead>\n",
              "  <tbody>\n",
              "    <tr>\n",
              "      <th>0</th>\n",
              "      <td>7668</td>\n",
              "      <td>Nicky</td>\n",
              "      <td>T2</td>\n",
              "      <td>15</td>\n",
              "      <td>55</td>\n",
              "    </tr>\n",
              "    <tr>\n",
              "      <th>1</th>\n",
              "      <td>9762</td>\n",
              "      <td>Ruka</td>\n",
              "      <td>T2</td>\n",
              "      <td>12</td>\n",
              "      <td>52</td>\n",
              "    </tr>\n",
              "  </tbody>\n",
              "</table>\n",
              "</div>"
            ],
            "text/plain": [
              "     id   name group_name  marks_mse  marks_final\n",
              "0  7668  Nicky         T2         15           55\n",
              "1  9762   Ruka         T2         12           52"
            ]
          },
          "metadata": {
            "tags": []
          },
          "execution_count": 41
        }
      ]
    },
    {
      "cell_type": "code",
      "metadata": {
        "colab": {
          "base_uri": "https://localhost:8080/",
          "height": 111
        },
        "id": "tACzfYjHA6D9",
        "outputId": "af218536-eb66-4c8e-82d5-e85c0ea483d0"
      },
      "source": [
        "#number of T1 and T2 students in b.tech\n",
        "query = \"SELECT group_name, COUNT(*) FROM btech_table GROUP BY group_name\"\n",
        "pd.read_sql(query, conn)"
      ],
      "execution_count": 43,
      "outputs": [
        {
          "output_type": "execute_result",
          "data": {
            "text/html": [
              "<div>\n",
              "<style scoped>\n",
              "    .dataframe tbody tr th:only-of-type {\n",
              "        vertical-align: middle;\n",
              "    }\n",
              "\n",
              "    .dataframe tbody tr th {\n",
              "        vertical-align: top;\n",
              "    }\n",
              "\n",
              "    .dataframe thead th {\n",
              "        text-align: right;\n",
              "    }\n",
              "</style>\n",
              "<table border=\"1\" class=\"dataframe\">\n",
              "  <thead>\n",
              "    <tr style=\"text-align: right;\">\n",
              "      <th></th>\n",
              "      <th>group_name</th>\n",
              "      <th>COUNT(*)</th>\n",
              "    </tr>\n",
              "  </thead>\n",
              "  <tbody>\n",
              "    <tr>\n",
              "      <th>0</th>\n",
              "      <td>T1</td>\n",
              "      <td>2</td>\n",
              "    </tr>\n",
              "    <tr>\n",
              "      <th>1</th>\n",
              "      <td>T2</td>\n",
              "      <td>2</td>\n",
              "    </tr>\n",
              "  </tbody>\n",
              "</table>\n",
              "</div>"
            ],
            "text/plain": [
              "  group_name  COUNT(*)\n",
              "0         T1         2\n",
              "1         T2         2"
            ]
          },
          "metadata": {
            "tags": []
          },
          "execution_count": 43
        }
      ]
    },
    {
      "cell_type": "code",
      "metadata": {
        "colab": {
          "base_uri": "https://localhost:8080/",
          "height": 173
        },
        "id": "b0ocsNHNCKiH",
        "outputId": "085df3de-de37-4203-9402-93123f8f79d8"
      },
      "source": [
        "query = \"UPDATE mtech_table SET group_name = 'T1' WHERE group_name = 'T2'\"\n",
        "cur.execute(query)\n",
        "query = \"SELECT * FROM mtech_table\"\n",
        "pd.read_sql(query, conn)"
      ],
      "execution_count": 45,
      "outputs": [
        {
          "output_type": "execute_result",
          "data": {
            "text/html": [
              "<div>\n",
              "<style scoped>\n",
              "    .dataframe tbody tr th:only-of-type {\n",
              "        vertical-align: middle;\n",
              "    }\n",
              "\n",
              "    .dataframe tbody tr th {\n",
              "        vertical-align: top;\n",
              "    }\n",
              "\n",
              "    .dataframe thead th {\n",
              "        text-align: right;\n",
              "    }\n",
              "</style>\n",
              "<table border=\"1\" class=\"dataframe\">\n",
              "  <thead>\n",
              "    <tr style=\"text-align: right;\">\n",
              "      <th></th>\n",
              "      <th>id</th>\n",
              "      <th>name</th>\n",
              "      <th>group_name</th>\n",
              "      <th>marks_mse</th>\n",
              "      <th>marks_final</th>\n",
              "    </tr>\n",
              "  </thead>\n",
              "  <tbody>\n",
              "    <tr>\n",
              "      <th>0</th>\n",
              "      <td>1236</td>\n",
              "      <td>Chika</td>\n",
              "      <td>T1</td>\n",
              "      <td>15</td>\n",
              "      <td>60</td>\n",
              "    </tr>\n",
              "    <tr>\n",
              "      <th>1</th>\n",
              "      <td>6755</td>\n",
              "      <td>Yuki</td>\n",
              "      <td>T1</td>\n",
              "      <td>13</td>\n",
              "      <td>45</td>\n",
              "    </tr>\n",
              "    <tr>\n",
              "      <th>2</th>\n",
              "      <td>7668</td>\n",
              "      <td>Nicky</td>\n",
              "      <td>T1</td>\n",
              "      <td>15</td>\n",
              "      <td>55</td>\n",
              "    </tr>\n",
              "    <tr>\n",
              "      <th>3</th>\n",
              "      <td>9762</td>\n",
              "      <td>Ruka</td>\n",
              "      <td>T1</td>\n",
              "      <td>12</td>\n",
              "      <td>52</td>\n",
              "    </tr>\n",
              "  </tbody>\n",
              "</table>\n",
              "</div>"
            ],
            "text/plain": [
              "     id   name group_name  marks_mse  marks_final\n",
              "0  1236  Chika         T1         15           60\n",
              "1  6755   Yuki         T1         13           45\n",
              "2  7668  Nicky         T1         15           55\n",
              "3  9762   Ruka         T1         12           52"
            ]
          },
          "metadata": {
            "tags": []
          },
          "execution_count": 45
        }
      ]
    },
    {
      "cell_type": "code",
      "metadata": {
        "colab": {
          "base_uri": "https://localhost:8080/",
          "height": 80
        },
        "id": "IVdqodfXLxDf",
        "outputId": "1d8421c3-4f1f-4abe-981d-98292e7e43bc"
      },
      "source": [
        "#average marks in b.tech\n",
        "\n",
        "query = \"SELECT AVG(marks_mse), AVG(marks_final) FROM btech_table\"\n",
        "pd.read_sql(query, conn)"
      ],
      "execution_count": 46,
      "outputs": [
        {
          "output_type": "execute_result",
          "data": {
            "text/html": [
              "<div>\n",
              "<style scoped>\n",
              "    .dataframe tbody tr th:only-of-type {\n",
              "        vertical-align: middle;\n",
              "    }\n",
              "\n",
              "    .dataframe tbody tr th {\n",
              "        vertical-align: top;\n",
              "    }\n",
              "\n",
              "    .dataframe thead th {\n",
              "        text-align: right;\n",
              "    }\n",
              "</style>\n",
              "<table border=\"1\" class=\"dataframe\">\n",
              "  <thead>\n",
              "    <tr style=\"text-align: right;\">\n",
              "      <th></th>\n",
              "      <th>AVG(marks_mse)</th>\n",
              "      <th>AVG(marks_final)</th>\n",
              "    </tr>\n",
              "  </thead>\n",
              "  <tbody>\n",
              "    <tr>\n",
              "      <th>0</th>\n",
              "      <td>17.5</td>\n",
              "      <td>54.5</td>\n",
              "    </tr>\n",
              "  </tbody>\n",
              "</table>\n",
              "</div>"
            ],
            "text/plain": [
              "   AVG(marks_mse)  AVG(marks_final)\n",
              "0            17.5              54.5"
            ]
          },
          "metadata": {
            "tags": []
          },
          "execution_count": 46
        }
      ]
    }
  ]
}