{
  "nbformat": 4,
  "nbformat_minor": 0,
  "metadata": {
    "colab": {
      "name": "Practice-1.ipynb",
      "provenance": [],
      "collapsed_sections": [],
      "authorship_tag": "ABX9TyP59v7yM9skHWYjtbLL6zbQ",
      "include_colab_link": true
    },
    "kernelspec": {
      "name": "python3",
      "display_name": "Python 3"
    }
  },
  "cells": [
    {
      "cell_type": "markdown",
      "metadata": {
        "id": "view-in-github",
        "colab_type": "text"
      },
      "source": [
        "<a href=\"https://colab.research.google.com/github/Rayzon3/DBMS/blob/master/Practice_1.ipynb\" target=\"_parent\"><img src=\"https://colab.research.google.com/assets/colab-badge.svg\" alt=\"Open In Colab\"/></a>"
      ]
    },
    {
      "cell_type": "code",
      "metadata": {
        "id": "BrCzcDgfyXIN"
      },
      "source": [
        "import pandas as pd\n",
        "import sqlite3"
      ],
      "execution_count": 2,
      "outputs": []
    },
    {
      "cell_type": "code",
      "metadata": {
        "id": "OcOktJquzmpb"
      },
      "source": [
        "conn = sqlite3.connect('todoDb.db')"
      ],
      "execution_count": 3,
      "outputs": []
    },
    {
      "cell_type": "code",
      "metadata": {
        "colab": {
          "base_uri": "https://localhost:8080/"
        },
        "id": "cw2g8jhXz9fM",
        "outputId": "4e14dd56-817a-492e-9f30-ff544817c562"
      },
      "source": [
        "conn.execute('''\n",
        "              CREATE TABLE IF NOT EXISTS todo(\n",
        "                id INTEGER PRIMARY KEY AUTOINCREMENT,\n",
        "                task TEXT NOT NULL\n",
        "              )\n",
        "''')"
      ],
      "execution_count": 42,
      "outputs": [
        {
          "output_type": "execute_result",
          "data": {
            "text/plain": [
              "<sqlite3.Cursor at 0x7fecda0c3340>"
            ]
          },
          "metadata": {
            "tags": []
          },
          "execution_count": 42
        }
      ]
    },
    {
      "cell_type": "code",
      "metadata": {
        "id": "b2aGIg8V1Vy6"
      },
      "source": [
        "def insertData(task):\n",
        "    query = \"\"\"\n",
        "    INSERT INTO todo (task) \n",
        "    VALUES (?)\"\"\"\n",
        "    cur.execute(query, (task,))\n",
        "    conn.commit()"
      ],
      "execution_count": 43,
      "outputs": []
    },
    {
      "cell_type": "code",
      "metadata": {
        "id": "ave9S9eL6V6T"
      },
      "source": [
        "def showTable():\n",
        "  query = \"SELECT * FROM todo\"\n",
        "  for row in conn.execute(query):\n",
        "    print(row)"
      ],
      "execution_count": 9,
      "outputs": []
    },
    {
      "cell_type": "code",
      "metadata": {
        "id": "L2kovMOz7N2Y"
      },
      "source": [
        "def deleteData(id):\n",
        "  query = \"Delete from todo WHERE id=?\"\n",
        "  conn.execute(query, (id,))\n",
        "  conn.commit"
      ],
      "execution_count": 10,
      "outputs": []
    },
    {
      "cell_type": "code",
      "metadata": {
        "id": "6EmqOMHt8ohY"
      },
      "source": [
        "def updateData(id, newTask):\n",
        "  query = \"UPDATE todo SET task=? WHERE id=?\"\n",
        "  conn.execute(query, (newTask, id,))\n",
        "  conn.commit"
      ],
      "execution_count": 11,
      "outputs": []
    },
    {
      "cell_type": "code",
      "metadata": {
        "id": "dxT5wteU4T-X"
      },
      "source": [
        "insertData(\"Have break\")\n",
        "insertData(\"do coding\")"
      ],
      "execution_count": 44,
      "outputs": []
    },
    {
      "cell_type": "code",
      "metadata": {
        "id": "HFT-mLSC6J4p"
      },
      "source": [
        "insertData(\"Work hard\")"
      ],
      "execution_count": 31,
      "outputs": []
    },
    {
      "cell_type": "code",
      "metadata": {
        "id": "iyz5LvIG64zP",
        "colab": {
          "base_uri": "https://localhost:8080/"
        },
        "outputId": "82083dbb-8c6c-4f05-b95d-423ba0dc4586"
      },
      "source": [
        "showTable()"
      ],
      "execution_count": 32,
      "outputs": [
        {
          "output_type": "stream",
          "text": [
            "(1, 'Have break')\n",
            "(2, 'do coding')\n",
            "(3, 'Work hard')\n"
          ],
          "name": "stdout"
        }
      ]
    },
    {
      "cell_type": "code",
      "metadata": {
        "id": "LapefZ3W8Wxs"
      },
      "source": [
        "deleteData(1)"
      ],
      "execution_count": 33,
      "outputs": []
    },
    {
      "cell_type": "code",
      "metadata": {
        "id": "ZZXaBApC8hn4",
        "colab": {
          "base_uri": "https://localhost:8080/"
        },
        "outputId": "54d189f2-e122-4c69-f082-850dc26230ad"
      },
      "source": [
        "showTable()"
      ],
      "execution_count": 34,
      "outputs": [
        {
          "output_type": "stream",
          "text": [
            "(2, 'do coding')\n",
            "(3, 'Work hard')\n"
          ],
          "name": "stdout"
        }
      ]
    },
    {
      "cell_type": "code",
      "metadata": {
        "id": "ojbiSC469nvL"
      },
      "source": [
        "updateData(3, 'do coding')"
      ],
      "execution_count": 35,
      "outputs": []
    },
    {
      "cell_type": "code",
      "metadata": {
        "id": "lxzcxZU29uGx",
        "colab": {
          "base_uri": "https://localhost:8080/"
        },
        "outputId": "0bdaaad6-80b7-4d37-bd38-bbdb30519337"
      },
      "source": [
        "showTable()"
      ],
      "execution_count": 36,
      "outputs": [
        {
          "output_type": "stream",
          "text": [
            "(2, 'do coding')\n",
            "(3, 'do coding')\n"
          ],
          "name": "stdout"
        }
      ]
    }
  ]
}